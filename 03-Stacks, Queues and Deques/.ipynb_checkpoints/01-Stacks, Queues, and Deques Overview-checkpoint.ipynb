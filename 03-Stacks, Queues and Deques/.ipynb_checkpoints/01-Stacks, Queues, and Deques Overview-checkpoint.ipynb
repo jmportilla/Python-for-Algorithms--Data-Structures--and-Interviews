{
 "cells": [
  {
   "cell_type": "markdown",
   "metadata": {},
   "source": [
    "# Stacks, Queues, and Deques Overview"
   ]
  },
  {
   "cell_type": "markdown",
   "metadata": {},
   "source": [
    "In this section of the course we will be learning about Stack, Queues, and Deques. These are linear structures. They are similar to arrays, but each of these structures differs by how it adds and removes items.\n",
    "\n",
    "Here's what to expect in this section:\n",
    "\n",
    "    1.) A Brief Overview of the Linear Structures\n",
    "    2.) An Overview of Stacks\n",
    "    3.) An Implementation of a Stack class\n",
    "    4.) An Overview of Queues\n",
    "    5.) An Implementation of a Queue class\n",
    "    6.) An Overview of Deques\n",
    "    7.) An Implementation of a Deque class\n",
    "    \n",
    "    Then finally a variety of interview questions based on Stacks, Queues, and Deques!\n",
    "    \n",
    "**See the lecture video for a complete breakdown of this Section of the course!**"
   ]
  }
 ],
 "metadata": {
  "kernelspec": {
   "display_name": "Python 3",
   "language": "python",
   "name": "python3"
  },
  "language_info": {
   "codemirror_mode": {
    "name": "ipython",
    "version": 3
   },
   "file_extension": ".py",
   "mimetype": "text/x-python",
   "name": "python",
   "nbconvert_exporter": "python",
   "pygments_lexer": "ipython3",
   "version": "3.8.10"
  }
 },
 "nbformat": 4,
 "nbformat_minor": 1
}
