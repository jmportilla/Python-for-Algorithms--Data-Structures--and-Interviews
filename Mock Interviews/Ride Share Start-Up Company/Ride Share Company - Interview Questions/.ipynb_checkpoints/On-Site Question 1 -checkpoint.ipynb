{
 "cells": [
  {
   "cell_type": "markdown",
   "metadata": {},
   "source": [
    "# On-Site Question 1 \n",
    "\n",
    "## Problem\n",
    "\n",
    "** Given a list of integers, find the largest product you could make from 3 integers in the list **\n",
    "\n",
    "## Requirements\n",
    "\n",
    "** You can assume that the list will always have at least 3 integers **\n",
    "\n",
    "** Paper/pencil only, don't code this out until you've solved it as far as you can by hand. **"
   ]
  },
  {
   "cell_type": "markdown",
   "metadata": {},
   "source": [
    "# Good Luck!"
   ]
  }
 ],
 "metadata": {
  "kernelspec": {
   "display_name": "Python 2",
   "language": "python",
   "name": "python2"
  },
  "language_info": {
   "codemirror_mode": {
    "name": "ipython",
    "version": 2
   },
   "file_extension": ".py",
   "mimetype": "text/x-python",
   "name": "python",
   "nbconvert_exporter": "python",
   "pygments_lexer": "ipython2",
   "version": "2.7.11"
  }
 },
 "nbformat": 4,
 "nbformat_minor": 0
}
