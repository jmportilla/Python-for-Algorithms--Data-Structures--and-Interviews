{
 "cells": [
  {
   "cell_type": "markdown",
   "metadata": {},
   "source": [
    "# Ropes Burning - SOLUTION\n",
    "## Problem Statement\n",
    "\n",
    "You have two ropes. Each takes exactly 60 minutes to burn.\n",
    "\n",
    "They are made of different material so even though they take the same amount of time to burn, they burn at separate rates. In addition, each rope burns inconsistently.\n",
    "\n",
    "How do you measure out exactly 45 minutes?\n",
    "\n",
    "## Solution\n",
    "\n",
    "Take one rope and burn it at both ends.\n",
    "\n",
    "At the same time, burn one end of the other rope.\n",
    "\n",
    "When the first rope finishes burning, light the other end of the remaining rope.\n",
    "\n",
    "When it burns out, that's 45 minutes."
   ]
  }
 ],
 "metadata": {
  "kernelspec": {
   "display_name": "Python 3",
   "language": "python",
   "name": "python3"
  },
  "language_info": {
   "codemirror_mode": {
    "name": "ipython",
    "version": 3
   },
   "file_extension": ".py",
   "mimetype": "text/x-python",
   "name": "python",
   "nbconvert_exporter": "python",
   "pygments_lexer": "ipython3",
   "version": "3.8.10"
  }
 },
 "nbformat": 4,
 "nbformat_minor": 1
}
