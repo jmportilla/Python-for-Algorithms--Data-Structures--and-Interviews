{
 "cells": [
  {
   "cell_type": "markdown",
   "metadata": {},
   "source": [
    "# Bridge Crossing - SOLUTION"
   ]
  },
  {
   "cell_type": "markdown",
   "metadata": {},
   "source": [
    "## Problem Statement\n",
    "\n",
    "A group of four travelers comes to a bridge at night. The bridge can hold the weight of at most only two of the travelers at a time, and it can- not be crossed without using a flashlight. \n",
    "\n",
    "The travelers have one flashlight among them. Each traveler walks at a different speed: The first can cross the bridge in 1 minute, the second in 2 minutes, the third in 5 minutes, and the fourth takes 10 minutes to cross the bridge. If two travelers cross together, they walk at the speed of the slower traveler.\n",
    "\n",
    "What is the least amount of time in which all the travelers can cross from one side of the bridge to the other?\n",
    "\n",
    "## Solution\n",
    "\n",
    "This is part of a common group of [river crossing](https://en.wikipedia.org/wiki/River_crossing_puzzle) puzzles. Its know as the [Bridge and Torch problem](https://en.wikipedia.org/wiki/Bridge_and_torch_problem) (sometimes the times assigned to each person are different).\n",
    "\n",
    "The solution to this version is:\n",
    "<table class=\"p4table width50\">\n",
    "<tr><th>Move</th><th>Time</th>\n",
    "</tr>\n",
    "<tr><td>(1) &amp; (2) Cross with Torch</td><td>2</td>\n",
    "</tr>\n",
    "<tr><td>(1) Returns with Torch</td><td>1</td>\n",
    "</tr>\n",
    "<tr><td>(5) &amp; (10) Cross with Torch</td><td>10</td>\n",
    "</tr>\n",
    "<tr><td>(2) Returns with Torch</td><td>2</td>\n",
    "</tr>\n",
    "<tr><td>(1) &amp; (2) Cross with Torch</td><td>2</td>\n",
    "</tr>\n",
    "<tr><td>&nbsp;</td><th>17</th></tr>\n",
    "</table>"
   ]
  }
 ],
 "metadata": {
  "kernelspec": {
   "display_name": "Python 3",
   "language": "python",
   "name": "python3"
  },
  "language_info": {
   "codemirror_mode": {
    "name": "ipython",
    "version": 3
   },
   "file_extension": ".py",
   "mimetype": "text/x-python",
   "name": "python",
   "nbconvert_exporter": "python",
   "pygments_lexer": "ipython3",
   "version": "3.8.10"
  }
 },
 "nbformat": 4,
 "nbformat_minor": 1
}
